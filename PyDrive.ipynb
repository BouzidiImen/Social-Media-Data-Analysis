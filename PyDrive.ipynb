{
 "cells": [
  {
   "cell_type": "markdown",
   "metadata": {},
   "source": [
    "## Manage Files in Google Drive using PyDrive"
   ]
  },
  {
   "cell_type": "code",
   "execution_count": 14,
   "metadata": {},
   "outputs": [],
   "source": [
    "import os\n",
    "\n",
    "from pydrive.auth import GoogleAuth\n",
    "from pydrive.drive import GoogleDrive"
   ]
  },
  {
   "cell_type": "markdown",
   "metadata": {},
   "source": [
    "Firstly, you should get the credentials, a json file which could be saved in a local directory.\n",
    "\n",
    "For more information about how to get the json file for authentication, please go to:\n",
    "https://pythonhosted.org/PyDrive/quickstart.html"
   ]
  },
  {
   "cell_type": "markdown",
   "metadata": {},
   "source": [
    "Then, please specify the path where you save the credential file\n",
    "\n",
    "In this case, the ```F:\\\\CityU\\\\Datasets``` saves the ```client_secrets.json``` file"
   ]
  },
  {
   "cell_type": "code",
   "execution_count": 2,
   "metadata": {},
   "outputs": [
    {
     "data": {
      "text/plain": [
       "'F:\\\\CityU\\\\Datasets'"
      ]
     },
     "execution_count": 2,
     "metadata": {},
     "output_type": "execute_result"
    }
   ],
   "source": [
    "path = r'F:\\CityU\\Datasets'\n",
    "os.chdir(path)\n",
    "os.getcwd()"
   ]
  },
  {
   "cell_type": "markdown",
   "metadata": {},
   "source": [
    "Initialize the web server"
   ]
  },
  {
   "cell_type": "code",
   "execution_count": 3,
   "metadata": {},
   "outputs": [
    {
     "name": "stdout",
     "output_type": "stream",
     "text": [
      "Your browser has been opened to visit:\n",
      "\n",
      "    https://accounts.google.com/o/oauth2/auth?access_type=offline&client_id=1099227637668-3sp0ollipknnechuc9cqr2k3ss4ob76j.apps.googleusercontent.com&scope=https%3A%2F%2Fwww.googleapis.com%2Fauth%2Fdrive&redirect_uri=http%3A%2F%2Flocalhost%3A8090%2F&response_type=code\n",
      "\n",
      "Authentication successful.\n"
     ]
    }
   ],
   "source": [
    "gauth = GoogleAuth()\n",
    "gauth.LocalWebserverAuth()"
   ]
  },
  {
   "cell_type": "markdown",
   "metadata": {},
   "source": [
    "Download file from a Google drive folder and save them to a local directory\n",
    "\n",
    "**Remembder**: Always use ```file id``` and ```folder id``` to get access to the file and folder you want."
   ]
  },
  {
   "cell_type": "code",
   "execution_count": 13,
   "metadata": {},
   "outputs": [
    {
     "name": "stdout",
     "output_type": "stream",
     "text": [
      "title: XMind-ZEN-Update-2019-for-Windows-64bit-9.2.1-201906120058.exe, id: 1e5nq1gbroy8FF0GZkgjWQmHthz5aTNoI\n",
      "title: typora-setup-x64.exe, id: 1RaRcKSzSuqcECiNEv_5Tx7CqVvLZUWoP\n",
      "title: QQPinyin_Setup_6.2.5507.400.exe, id: 1xURVGdjFBjv_Tv0rPvlzDT0wIwj01B1O\n",
      "title: python-3.5.2-amd64.exe, id: 1pfy8SE85itlLdjOwVn_B-0F344n7pjCq\n",
      "title: Mendeley-Desktop-1.19.4-win32.exe, id: 1b16ESfZ1u2pHa-6nWyvDEOMIRpw_P7Qk\n"
     ]
    }
   ],
   "source": [
    "# Specify the local path\n",
    "saving_path = r'C:\\Users\\Haoliang Chang\\Desktop\\downloads'\n",
    "\n",
    "# 1LxpqY3SNKvYtut8nxHXgen_x55wQowpz is the folder ID. Just replace it with your own folder ID\n",
    "file_list = drive.ListFile({'q': \"'1LxpqY3SNKvYtut8nxHXgen_x55wQowpz' in parents and trashed=false\"}).GetList()\n",
    "for file in file_list:\n",
    "    print('title: %s, id: %s' % (file['title'], file['id']))\n",
    "    file_to_be_download = drive.CreateFile({'id': file['id']})\n",
    "    file.GetContentFile(os.path.join(saving_path, file['title']))"
   ]
  },
  {
   "cell_type": "markdown",
   "metadata": {},
   "source": [
    "For more information about using Pydrive to manage your files, please go to:\n",
    "\n",
    "https://pythonhosted.org/PyDrive/filemanagement.html"
   ]
  },
  {
   "cell_type": "code",
   "execution_count": null,
   "metadata": {},
   "outputs": [],
   "source": []
  }
 ],
 "metadata": {
  "kernelspec": {
   "display_name": "Python 3",
   "language": "python",
   "name": "python3"
  },
  "language_info": {
   "codemirror_mode": {
    "name": "ipython",
    "version": 3
   },
   "file_extension": ".py",
   "mimetype": "text/x-python",
   "name": "python",
   "nbconvert_exporter": "python",
   "pygments_lexer": "ipython3",
   "version": "3.5.2"
  }
 },
 "nbformat": 4,
 "nbformat_minor": 2
}
