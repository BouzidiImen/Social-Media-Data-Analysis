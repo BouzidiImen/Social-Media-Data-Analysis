{
 "cells": [
  {
   "cell_type": "markdown",
   "metadata": {},
   "source": [
    "# 1. Import Relevant Packages"
   ]
  },
  {
   "cell_type": "code",
   "execution_count": 50,
   "metadata": {
    "collapsed": true
   },
   "outputs": [],
   "source": [
    "import pandas as pd\n",
    "import requests\n",
    "import os"
   ]
  },
  {
   "cell_type": "markdown",
   "metadata": {},
   "source": [
    "# 2. Load the Station File"
   ]
  },
  {
   "cell_type": "code",
   "execution_count": 21,
   "metadata": {
    "collapsed": true
   },
   "outputs": [],
   "source": [
    "desktop = r'C:\\Users\\hlchang4.DS039047\\Desktop'"
   ]
  },
  {
   "cell_type": "code",
   "execution_count": 28,
   "metadata": {
    "collapsed": true
   },
   "outputs": [],
   "source": [
    "station_location = pd.read_csv(os.path.join(desktop, 'station_location.csv'))"
   ]
  },
  {
   "cell_type": "markdown",
   "metadata": {},
   "source": [
    "# 3. Set the API key and Get the Latitudes and Longitudes"
   ]
  },
  {
   "cell_type": "code",
   "execution_count": 26,
   "metadata": {
    "collapsed": true
   },
   "outputs": [],
   "source": [
    "api_key = \"XXXXX\""
   ]
  },
  {
   "cell_type": "code",
   "execution_count": 45,
   "metadata": {
    "collapsed": true
   },
   "outputs": [],
   "source": [
    "station_location['station_full_name'] = station_location.apply(lambda row: row['Name']+' station, Hong Kong', axis=1)"
   ]
  },
  {
   "cell_type": "code",
   "execution_count": 46,
   "metadata": {},
   "outputs": [
    {
     "data": {
      "text/html": [
       "<div>\n",
       "<style scoped>\n",
       "    .dataframe tbody tr th:only-of-type {\n",
       "        vertical-align: middle;\n",
       "    }\n",
       "\n",
       "    .dataframe tbody tr th {\n",
       "        vertical-align: top;\n",
       "    }\n",
       "\n",
       "    .dataframe thead th {\n",
       "        text-align: right;\n",
       "    }\n",
       "</style>\n",
       "<table border=\"1\" class=\"dataframe\">\n",
       "  <thead>\n",
       "    <tr style=\"text-align: right;\">\n",
       "      <th></th>\n",
       "      <th>Name</th>\n",
       "      <th>station_full_name</th>\n",
       "    </tr>\n",
       "  </thead>\n",
       "  <tbody>\n",
       "    <tr>\n",
       "      <th>0</th>\n",
       "      <td>Admiralty</td>\n",
       "      <td>Admiralty station, Hong Kong</td>\n",
       "    </tr>\n",
       "    <tr>\n",
       "      <th>1</th>\n",
       "      <td>Airport</td>\n",
       "      <td>Airport station, Hong Kong</td>\n",
       "    </tr>\n",
       "    <tr>\n",
       "      <th>2</th>\n",
       "      <td>AsiaWorld-Expo</td>\n",
       "      <td>AsiaWorld-Expo station, Hong Kong</td>\n",
       "    </tr>\n",
       "    <tr>\n",
       "      <th>3</th>\n",
       "      <td>Austin</td>\n",
       "      <td>Austin station, Hong Kong</td>\n",
       "    </tr>\n",
       "    <tr>\n",
       "      <th>4</th>\n",
       "      <td>Causeway Bay</td>\n",
       "      <td>Causeway Bay station, Hong Kong</td>\n",
       "    </tr>\n",
       "    <tr>\n",
       "      <th>5</th>\n",
       "      <td>Central</td>\n",
       "      <td>Central station, Hong Kong</td>\n",
       "    </tr>\n",
       "    <tr>\n",
       "      <th>6</th>\n",
       "      <td>Chai Wan</td>\n",
       "      <td>Chai Wan station, Hong Kong</td>\n",
       "    </tr>\n",
       "    <tr>\n",
       "      <th>7</th>\n",
       "      <td>Che Kung Temple</td>\n",
       "      <td>Che Kung Temple station, Hong Kong</td>\n",
       "    </tr>\n",
       "    <tr>\n",
       "      <th>8</th>\n",
       "      <td>Cheung Sha Wan</td>\n",
       "      <td>Cheung Sha Wan station, Hong Kong</td>\n",
       "    </tr>\n",
       "    <tr>\n",
       "      <th>9</th>\n",
       "      <td>Choi Hung</td>\n",
       "      <td>Choi Hung station, Hong Kong</td>\n",
       "    </tr>\n",
       "  </tbody>\n",
       "</table>\n",
       "</div>"
      ],
      "text/plain": [
       "              Name                   station_full_name\n",
       "0        Admiralty        Admiralty station, Hong Kong\n",
       "1          Airport          Airport station, Hong Kong\n",
       "2   AsiaWorld-Expo   AsiaWorld-Expo station, Hong Kong\n",
       "3           Austin           Austin station, Hong Kong\n",
       "4     Causeway Bay     Causeway Bay station, Hong Kong\n",
       "5          Central          Central station, Hong Kong\n",
       "6         Chai Wan         Chai Wan station, Hong Kong\n",
       "7  Che Kung Temple  Che Kung Temple station, Hong Kong\n",
       "8   Cheung Sha Wan   Cheung Sha Wan station, Hong Kong\n",
       "9        Choi Hung        Choi Hung station, Hong Kong"
      ]
     },
     "execution_count": 46,
     "metadata": {},
     "output_type": "execute_result"
    }
   ],
   "source": [
    "station_location.head(10)"
   ]
  },
  {
   "cell_type": "code",
   "execution_count": 47,
   "metadata": {
    "collapsed": true
   },
   "outputs": [],
   "source": [
    "def get_lat_lon_from_api(address):\n",
    "    api_response = requests.get('https://maps.googleapis.com/maps/api/geocode/json?address={0}&key={1}'.format(address, api_key))\n",
    "    api_response_dict = api_response.json()\n",
    "    latitude = api_response_dict['results'][0]['geometry']['location']['lat']\n",
    "    longitude = api_response_dict['results'][0]['geometry']['location']['lng']\n",
    "    return latitude, longitude"
   ]
  },
  {
   "cell_type": "code",
   "execution_count": 48,
   "metadata": {
    "collapsed": true
   },
   "outputs": [],
   "source": [
    "station_location_dict = {}\n",
    "\n",
    "for index, row in station_location.iterrows():\n",
    "    station_location_dict[row['Name']] = (get_lat_lon_from_api(row['station_full_name']))"
   ]
  },
  {
   "cell_type": "code",
   "execution_count": 49,
   "metadata": {},
   "outputs": [
    {
     "data": {
      "text/plain": [
       "{'Admiralty': (22.279412, 114.164559),\n",
       " 'Airport': (22.3158675, 113.9365616),\n",
       " 'AsiaWorld-Expo': (22.3208341, 113.9418389),\n",
       " 'Austin': (22.3037387, 114.1667609),\n",
       " 'Causeway Bay': (22.2803747, 114.1850421),\n",
       " 'Central': (22.2819318, 114.1582589),\n",
       " 'Chai Wan': (22.264625, 114.237139),\n",
       " 'Che Kung Temple': (22.37476, 114.185953),\n",
       " 'Cheung Sha Wan': (22.3354196, 114.1562522),\n",
       " 'Choi Hung': (22.3348647, 114.2089797),\n",
       " 'City One': (22.3830317, 114.2038144),\n",
       " 'Diamond Hill': (22.340017, 114.201698),\n",
       " 'Disneyland': (22.3153543, 114.0451876),\n",
       " 'East Tsim Sha Tsui': (22.2948154, 114.1734317),\n",
       " 'Fanling': (22.492073, 114.138691),\n",
       " 'Fo Tan': (22.3954327, 114.1983009),\n",
       " 'Fortress Hill': (22.2883137, 114.193893),\n",
       " 'HKU': (22.2839732, 114.1350158),\n",
       " 'Hang Hau': (22.3156006, 114.2644046),\n",
       " 'Heng Fa Chuen': (22.276867, 114.2399398),\n",
       " 'Heng On': (22.4178374, 114.2258646),\n",
       " 'Ho Man Tin': (22.3093594, 114.1827294),\n",
       " 'Hong Kong': (22.284377, 114.158056),\n",
       " 'Hung Hom': (22.3032533, 114.1816089),\n",
       " 'Jordan': (22.30492, 114.171677),\n",
       " 'Kam Sheung Road': (22.4348408, 114.0630737),\n",
       " 'Kennedy Town': (22.2812467, 114.1288825),\n",
       " 'Kowloon': (22.304306, 114.161475),\n",
       " 'Kowloon Bay': (22.3369164, 114.1762001),\n",
       " 'Kowloon Tong': (22.3369164, 114.1762001),\n",
       " 'Kwai Fong': (22.3568312, 114.1278151),\n",
       " 'Kwai Hing': (22.3631499, 114.1312055),\n",
       " 'Kwun Tong': (22.3122783, 114.2262581),\n",
       " 'LOHAS Park': (22.2963137, 114.2695984),\n",
       " 'Lai Chi Kok': (22.3368748, 114.1483108),\n",
       " 'Lai King': (22.348416, 114.126161),\n",
       " 'Lam Tin': (22.306855, 114.232733),\n",
       " 'Lei Tung': (22.2424403, 114.1559308),\n",
       " 'Lo Wu': (22.5281007, 114.1133531),\n",
       " 'Lok Fu': (22.338026, 114.187022),\n",
       " 'Lok Ma Chau': (22.5148304, 114.0656451),\n",
       " 'Long Ping': (22.4476813, 114.0254849),\n",
       " 'Ma On Shan': (22.4248655, 114.2318416),\n",
       " 'Mei Foo': (22.3375848, 114.1379836),\n",
       " 'Mong Kok': (22.3192711, 114.1693622),\n",
       " 'Mong Kok East': (22.3221677, 114.1725674),\n",
       " 'Nam Cheong': (22.3267772, 114.1536799),\n",
       " 'Ngau Tau Kok': (22.3154622, 114.2191418),\n",
       " 'North Point': (22.2912707, 114.2004947),\n",
       " 'Ocean Park': (22.2487424, 114.1745163),\n",
       " 'Olympic': (22.317771, 114.16022),\n",
       " 'Po Lam': (22.322511, 114.257832),\n",
       " 'Prince Edward': (22.3250785, 114.1683631),\n",
       " 'Quarry Bay': (22.2878881, 114.2097482),\n",
       " 'Racecourse': (22.401083, 114.2033947),\n",
       " 'Sai Wan Ho': (22.2820984, 114.2220997),\n",
       " 'Sai Ying Pun': (22.285636, 114.1427419),\n",
       " 'Sha Tin': (22.3818236, 114.1869874),\n",
       " 'Sha Tin Wai': (22.3770253, 114.1949773),\n",
       " 'Sham Shui Po': (22.3307712, 114.1622681),\n",
       " 'Shau Kei Wan': (22.2792502, 114.2288793),\n",
       " 'Shek Mun': (22.3876873, 114.2083364),\n",
       " 'Shek kip Mei': (22.331512, 114.169239),\n",
       " 'Sheung Shui': (22.5011887, 114.128054),\n",
       " 'Sheung Wan': (22.2865251, 114.1521628),\n",
       " 'Siu Hong': (22.4113971, 113.9787379),\n",
       " 'South Horizons': (22.2426359, 114.1491253),\n",
       " 'Sunny Bay': (22.3316913, 114.0290545),\n",
       " 'Tai Koo': (22.2849916, 114.2161276),\n",
       " 'Tai Po Market': (22.4445559, 114.1704893),\n",
       " 'Tai Shui Hang': (22.408425, 114.222716),\n",
       " 'Tai Wai': (22.3727071, 114.1786167),\n",
       " 'Tai Wo': (22.4509995, 114.1612209),\n",
       " 'Tai Wo Hau': (22.3707784, 114.1250668),\n",
       " 'Tin Hau': (22.2824215, 114.1917258),\n",
       " 'Tin Shui Wai': (22.4482251, 114.0047405),\n",
       " 'Tiu Keng Leng': (22.3042551, 114.2526791),\n",
       " 'Tseung Kwan O': (22.3074303, 114.2598934),\n",
       " 'Tsim Sha Tsui': (22.2975719, 114.1722049),\n",
       " 'Tsing Yi': (22.3584978, 114.1076733),\n",
       " 'Tsuen Wan': (22.373614, 114.1176374),\n",
       " 'Tsuen Wan West': (22.3684787, 114.1096464),\n",
       " 'Tuen Mun': (22.3949146, 113.9730692),\n",
       " 'Tung Chung': (22.289255, 113.9414358),\n",
       " 'University': (22.4135158, 114.2101754),\n",
       " 'Wan Chai': (22.2775412, 114.1731527),\n",
       " 'Whampoa': (22.3050664, 114.1895125),\n",
       " 'Wong Chuk Hang': (22.248258, 114.168342),\n",
       " 'Wong Tai Sin': (22.3416327, 114.1933144),\n",
       " 'Wu Kai Sha': (22.4291778, 114.2438989),\n",
       " 'Yau Ma Tei': (22.3133688, 114.1705828),\n",
       " 'Yau Tong': (22.2979298, 114.2370027),\n",
       " 'Yuen Long': (22.4460876, 114.0347702)}"
      ]
     },
     "execution_count": 49,
     "metadata": {},
     "output_type": "execute_result"
    }
   ],
   "source": [
    "station_location_dict"
   ]
  },
  {
   "cell_type": "markdown",
   "metadata": {},
   "source": [
    "## However, after checking each latitude and longitude pair, we see that the geoinformation of some stations is wrong. The geoinformation of these stations should be:\n",
    "\n",
    "1. Kam Sheung Road: (22.43475, 114.06352)\n",
    "2. Kowloon Bay: (22.32317, 114.21412)\n",
    "3. Hong Kong: (22.28468, 114.15815)\n",
    "4. Prince Edward: (22.32463, 114.16826)\n",
    "5. Shek Kip Mei: (22.3321, 114.16879)\n",
    "6. South Horizons: (22.24285, 114.14874)\n",
    "7. Wong Chuk Hang: (22.24797, 114.16805)"
   ]
  },
  {
   "cell_type": "code",
   "execution_count": null,
   "metadata": {
    "collapsed": true
   },
   "outputs": [],
   "source": []
  }
 ],
 "metadata": {
  "kernelspec": {
   "display_name": "Python 3",
   "language": "python",
   "name": "python3"
  },
  "language_info": {
   "codemirror_mode": {
    "name": "ipython",
    "version": 3
   },
   "file_extension": ".py",
   "mimetype": "text/x-python",
   "name": "python",
   "nbconvert_exporter": "python",
   "pygments_lexer": "ipython3",
   "version": "3.5.2"
  }
 },
 "nbformat": 4,
 "nbformat_minor": 2
}
